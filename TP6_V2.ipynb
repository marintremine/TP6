{
 "cells": [
  {
   "cell_type": "code",
   "execution_count": 115,
   "metadata": {},
   "outputs": [],
   "source": [
    "import numpy as np\n",
    "import torch"
   ]
  },
  {
   "cell_type": "code",
   "execution_count": 116,
   "metadata": {},
   "outputs": [],
   "source": [
    "W1 = torch.from_numpy(np.array([[0., 1.], [0., -1]])).type(torch.float)\n",
    "W2 = torch.from_numpy(np.array([[1., 2.], [2., -1]])).type(torch.float)\n",
    "\n",
    "W1.requires_grad = True\n",
    "W2.requires_grad = True\n",
    "\n",
    "x = torch.from_numpy(np.array([1., 1.])).type(torch.float)\n",
    "y = torch.from_numpy(np.array([1., 0.])).type(torch.float)\n",
    "\n",
    "\n"
   ]
  },
  {
   "cell_type": "code",
   "execution_count": 117,
   "metadata": {},
   "outputs": [],
   "source": [
    "model = torch.nn.Sequential(\n",
    "    torch.nn.Linear(2, 2, bias=False),\n",
    "    torch.nn.ReLU(),\n",
    "    torch.nn.Linear(2, 2, bias=False)   \n",
    ")\n",
    "\n",
    "with torch.no_grad():\n",
    "    model[0].weight.copy_(W1)\n",
    "    model[2].weight.copy_(W2)"
   ]
  },
  {
   "cell_type": "code",
   "execution_count": 118,
   "metadata": {},
   "outputs": [
    {
     "name": "stdout",
     "output_type": "stream",
     "text": [
      "0 tensor(1.3133, grad_fn=<DivBackward1>)\n",
      "1 tensor(1.2921, grad_fn=<DivBackward1>)\n",
      "2 tensor(1.2517, grad_fn=<DivBackward1>)\n",
      "3 tensor(1.1955, grad_fn=<DivBackward1>)\n",
      "4 tensor(1.1282, grad_fn=<DivBackward1>)\n",
      "5 tensor(1.0548, grad_fn=<DivBackward1>)\n",
      "6 tensor(0.9805, grad_fn=<DivBackward1>)\n",
      "7 tensor(0.9098, grad_fn=<DivBackward1>)\n",
      "8 tensor(0.8462, grad_fn=<DivBackward1>)\n",
      "9 tensor(0.7921, grad_fn=<DivBackward1>)\n"
     ]
    }
   ],
   "source": [
    "lost_fn = torch.nn.CrossEntropyLoss()\n",
    "\n",
    "optimizer = torch.optim.SGD(model.parameters(), lr=0.01)\n",
    "\n",
    "\n",
    "for t in range(10):\n",
    "    y_pred = model(x)\n",
    "    erreur = lost_fn(y_pred, y)\n",
    "    erreur.backward()\n",
    "    print(t, erreur)\n",
    "    optimizer.step()"
   ]
  }
 ],
 "metadata": {
  "kernelspec": {
   "display_name": ".venv",
   "language": "python",
   "name": "python3"
  },
  "language_info": {
   "codemirror_mode": {
    "name": "ipython",
    "version": 3
   },
   "file_extension": ".py",
   "mimetype": "text/x-python",
   "name": "python",
   "nbconvert_exporter": "python",
   "pygments_lexer": "ipython3",
   "version": "3.12.3"
  }
 },
 "nbformat": 4,
 "nbformat_minor": 2
}
