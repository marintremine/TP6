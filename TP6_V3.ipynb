{
 "cells": [
  {
   "cell_type": "code",
   "execution_count": 23,
   "metadata": {},
   "outputs": [],
   "source": [
    "import numpy as np\n",
    "import torch\n",
    "\n",
    "import pandas as pd"
   ]
  },
  {
   "cell_type": "code",
   "execution_count": 24,
   "metadata": {},
   "outputs": [],
   "source": [
    "from utils import load_data2, encode_attributs_category, convert_to_tensor, pre_processing"
   ]
  },
  {
   "cell_type": "code",
   "execution_count": 25,
   "metadata": {},
   "outputs": [],
   "source": [
    "# préparation des données\n",
    "\n",
    "train_data, test_data = load_data2()\n",
    "\n",
    "#suppresion des lignes avec des valeurs manquantes\n",
    "X_train, y_train, X_test, y_test = pre_processing(train_data, test_data)\n",
    "\n",
    "#Conversion des données catégorielles en données numériques (one hot encoding)\n",
    "X_train, y_train, X_test, y_test = encode_attributs_category(X_train, y_train, X_test, y_test)\n",
    "\n",
    "#Conversion des tableaus numpy en tenseurs\n",
    "X_train_tensor, y_train_tensor, X_test_tensor, y_test_tensor = convert_to_tensor(X_train, y_train, X_test, y_test)"
   ]
  },
  {
   "cell_type": "code",
   "execution_count": 26,
   "metadata": {},
   "outputs": [
    {
     "data": {
      "text/plain": [
       "torch.Size([21115, 13])"
      ]
     },
     "execution_count": 26,
     "metadata": {},
     "output_type": "execute_result"
    }
   ],
   "source": [
    "X_train_tensor.shape"
   ]
  },
  {
   "cell_type": "code",
   "execution_count": 27,
   "metadata": {},
   "outputs": [],
   "source": [
    "model = torch.nn.Sequential(\n",
    "    torch.nn.Linear(13, 8),\n",
    "    torch.nn.ReLU(),\n",
    "    torch.nn.Linear(8, 2)   \n",
    ")\n"
   ]
  },
  {
   "cell_type": "code",
   "execution_count": 28,
   "metadata": {},
   "outputs": [
    {
     "name": "stdout",
     "output_type": "stream",
     "text": [
      "0 tensor(3427.7896, grad_fn=<DivBackward1>)\n",
      "1 tensor(758.6870, grad_fn=<DivBackward1>)\n",
      "2 tensor(445.7882, grad_fn=<DivBackward1>)\n",
      "3 tensor(117.1994, grad_fn=<DivBackward1>)\n",
      "4 tensor(146.3060, grad_fn=<DivBackward1>)\n",
      "5 tensor(4.9915, grad_fn=<DivBackward1>)\n",
      "6 tensor(3.3574, grad_fn=<DivBackward1>)\n",
      "7 tensor(2.2567, grad_fn=<DivBackward1>)\n",
      "8 tensor(1.5053, grad_fn=<DivBackward1>)\n",
      "9 tensor(1.2181, grad_fn=<DivBackward1>)\n"
     ]
    }
   ],
   "source": [
    "lost_fn = torch.nn.CrossEntropyLoss()\n",
    "\n",
    "optimizer = torch.optim.SGD(model.parameters(), lr=1e-5)\n",
    "\n",
    "\n",
    "for t in range(10):\n",
    "    y_pred = model(X_train_tensor)\n",
    "    erreur = lost_fn(y_pred, y_train_tensor)\n",
    "    erreur.backward()\n",
    "    print(t, erreur)\n",
    "    optimizer.step()"
   ]
  },
  {
   "cell_type": "markdown",
   "metadata": {},
   "source": [
    "Modifier, learning rate, model, tester de nouvelles configuration"
   ]
  },
  {
   "cell_type": "code",
   "execution_count": null,
   "metadata": {},
   "outputs": [],
   "source": []
  }
 ],
 "metadata": {
  "kernelspec": {
   "display_name": ".venv",
   "language": "python",
   "name": "python3"
  },
  "language_info": {
   "codemirror_mode": {
    "name": "ipython",
    "version": 3
   },
   "file_extension": ".py",
   "mimetype": "text/x-python",
   "name": "python",
   "nbconvert_exporter": "python",
   "pygments_lexer": "ipython3",
   "version": "3.12.3"
  }
 },
 "nbformat": 4,
 "nbformat_minor": 2
}
